{
 "cells": [
  {
   "cell_type": "markdown",
   "metadata": {},
   "source": [
    "# Khoa học dữ liệu - Dữ liệu người dùng Facebook"
   ]
  },
  {
   "cell_type": "markdown",
   "metadata": {},
   "source": [
    "### Câu 1: Phương pháp Bootstrap"
   ]
  },
  {
   "cell_type": "markdown",
   "metadata": {},
   "source": [
    "Import các thư viện"
   ]
  },
  {
   "cell_type": "code",
   "execution_count": 1,
   "metadata": {},
   "outputs": [],
   "source": [
    "import numpy as np\n",
    "import pandas as pd\n",
    "import seaborn as sns\n",
    "import matplotlib.pyplot as plt\n",
    "import random"
   ]
  },
  {
   "cell_type": "markdown",
   "metadata": {},
   "source": [
    "Đầu tiên, chúng ta sẽ đọc dữ liệu đầu vào và lựa chọn biến đặc trưng là tuổi"
   ]
  },
  {
   "cell_type": "code",
   "execution_count": 2,
   "metadata": {},
   "outputs": [],
   "source": [
    "# Read dataset\n",
    "data = pd.read_csv('pseudo_facebook.csv')\n",
    "\n",
    "# Choose age column from dataset\n",
    "data_age_column = data.age"
   ]
  },
  {
   "cell_type": "markdown",
   "metadata": {},
   "source": [
    "Tiếp theo là phần cài đặt phương pháp Bootstrap, dữ liệu trả về  là phân bố lấy mẫu bằng Histogram và dải tin cậy của giá trị trung bình của tuổi"
   ]
  },
  {
   "cell_type": "code",
   "execution_count": 32,
   "metadata": {},
   "outputs": [],
   "source": [
    "# n is sample size\n",
    "# M is number of bootstrap samplings\n",
    "# x is confidence interval in %\n",
    "def bootstrap(n, M, x):\n",
    "    mean = []\n",
    "    sample = []\n",
    "\n",
    "    for i in range(M):\n",
    "        random_sample = random.sample(data_age_column.tolist(), n)\n",
    "        mean.append(np.mean(random_sample))\n",
    "        sample.append(random_sample)\n",
    "        \n",
    "    # Confidence interval\n",
    "    # x = 100 * (1 - 2 * alpha)\n",
    "    alpha = (100 - x) / 200\n",
    "    mean.sort()\n",
    "    lower_bound = mean[int(M * alpha)]\n",
    "    upper_bound = mean[int(M * (1 - alpha))]\n",
    "    \n",
    "    plt.figure(figsize=(12, 8))\n",
    "    fig = sns.histplot(mean, kde=True, bins=10, stat=\"probability\")\n",
    "    fig.set_xlabel('Age')\n",
    "    plt.axvline(lower_bound, color='r')\n",
    "    plt.axvline(upper_bound, color='r')\n",
    "    plt.show()"
   ]
  },
  {
   "cell_type": "markdown",
   "metadata": {},
   "source": [
    "Gọi hàm Bootstrap với tham số đầu vào theo thứ tự là (sample size, number of bootstrap samplings, confidence interval)"
   ]
  },
  {
   "cell_type": "code",
   "execution_count": 5,
   "metadata": {},
   "outputs": [
    {
     "data": {
      "image/png": "[encoded data removed]",
      "text/plain": [
       "<Figure size 864x576 with 1 Axes>"
      ]
     },
     "metadata": {
      "needs_background": "light"
     },
     "output_type": "display_data"
    }
   ],
   "source": [
    "bootstrap(100, 3000, 90)"
   ]
  },
  {
   "cell_type": "markdown",
   "metadata": {},
   "source": [
    "### Câu 2:"
   ]
  },
  {
   "cell_type": "markdown",
   "metadata": {},
   "source": [
    "#### 1. Phân tích về nhóm tuổi"
   ]
  },
  {
   "cell_type": "markdown",
   "metadata": {},
   "source": [
    "Dựa vào dữ liệu đầu ở câu 1, đầu tiên ta sẽ xét xem số tuổi thấp nhất và cao nhất của người dùng Facebook"
   ]
  },
  {
   "cell_type": "code",
   "execution_count": 6,
   "metadata": {},
   "outputs": [
    {
     "name": "stdout",
     "output_type": "stream",
     "text": [
      "Min age of a person on facebook:  13\n",
      "Max age of a person on facebook:  113\n"
     ]
    }
   ],
   "source": [
    "print('Min age of a person on facebook: ', data['age'].min())\n",
    "print('Max age of a person on facebook: ', data['age'].max())"
   ]
  },
  {
   "cell_type": "markdown",
   "metadata": {},
   "source": [
    "Số tuổi của người dùng Facebook dao động từ 13 đến 113 tuổi nên ta sẽ chọn cận dưới là 10 tuổi và cận trên là 120 tuổi, sau đó ta tiến hành chia thành các nhóm tuổi. Ở đây ta chia thành 11 nhóm tuổi và phân loại người dùng theo nhóm tuổi vào cột \"age_group\""
   ]
  },
  {
   "cell_type": "code",
   "execution_count": 7,
   "metadata": {},
   "outputs": [],
   "source": [
    "# Add column \"age_group\" to dataset\n",
    "age_group = ['10-20', '21-30', '31-40', '41-50', '51-60', '61-70', '71-80', '81-90', '91-100', '101-110', '111-120']\n",
    "data['age_group'] = pd.cut(data_age_column, bins=np.arange(10, 121, 10), labels=age_group, right=True)"
   ]
  },
  {
   "cell_type": "markdown",
   "metadata": {},
   "source": [
    "Tiếp theo, ta đếm xem số lượng người dùng Facebook nằm trong khoảng độ tuổi nào nhiều nhất"
   ]
  },
  {
   "cell_type": "code",
   "execution_count": 8,
   "metadata": {},
   "outputs": [
    {
     "data": {
      "text/html": [
       "<div>\n",
       "<style scoped>\n",
       "    .dataframe tbody tr th:only-of-type {\n",
       "        vertical-align: middle;\n",
       "    }\n",
       "\n",
       "    .dataframe tbody tr th {\n",
       "        vertical-align: top;\n",
       "    }\n",
       "\n",
       "    .dataframe thead th {\n",
       "        text-align: right;\n",
       "    }\n",
       "</style>\n",
       "<table border=\"1\" class=\"dataframe\">\n",
       "  <thead>\n",
       "    <tr style=\"text-align: right;\">\n",
       "      <th></th>\n",
       "      <th>age_group</th>\n",
       "      <th>count</th>\n",
       "    </tr>\n",
       "  </thead>\n",
       "  <tbody>\n",
       "    <tr>\n",
       "      <th>0</th>\n",
       "      <td>21-30</td>\n",
       "      <td>28646</td>\n",
       "    </tr>\n",
       "    <tr>\n",
       "      <th>1</th>\n",
       "      <td>10-20</td>\n",
       "      <td>24752</td>\n",
       "    </tr>\n",
       "    <tr>\n",
       "      <th>2</th>\n",
       "      <td>31-40</td>\n",
       "      <td>12491</td>\n",
       "    </tr>\n",
       "    <tr>\n",
       "      <th>3</th>\n",
       "      <td>51-60</td>\n",
       "      <td>9319</td>\n",
       "    </tr>\n",
       "    <tr>\n",
       "      <th>4</th>\n",
       "      <td>41-50</td>\n",
       "      <td>8968</td>\n",
       "    </tr>\n",
       "    <tr>\n",
       "      <th>5</th>\n",
       "      <td>61-70</td>\n",
       "      <td>6855</td>\n",
       "    </tr>\n",
       "    <tr>\n",
       "      <th>6</th>\n",
       "      <td>101-110</td>\n",
       "      <td>3449</td>\n",
       "    </tr>\n",
       "    <tr>\n",
       "      <th>7</th>\n",
       "      <td>71-80</td>\n",
       "      <td>2249</td>\n",
       "    </tr>\n",
       "    <tr>\n",
       "      <th>8</th>\n",
       "      <td>91-100</td>\n",
       "      <td>1219</td>\n",
       "    </tr>\n",
       "    <tr>\n",
       "      <th>9</th>\n",
       "      <td>81-90</td>\n",
       "      <td>817</td>\n",
       "    </tr>\n",
       "    <tr>\n",
       "      <th>10</th>\n",
       "      <td>111-120</td>\n",
       "      <td>238</td>\n",
       "    </tr>\n",
       "  </tbody>\n",
       "</table>\n",
       "</div>"
      ],
      "text/plain": [
       "   age_group  count\n",
       "0      21-30  28646\n",
       "1      10-20  24752\n",
       "2      31-40  12491\n",
       "3      51-60   9319\n",
       "4      41-50   8968\n",
       "5      61-70   6855\n",
       "6    101-110   3449\n",
       "7      71-80   2249\n",
       "8     91-100   1219\n",
       "9      81-90    817\n",
       "10   111-120    238"
      ]
     },
     "execution_count": 8,
     "metadata": {},
     "output_type": "execute_result"
    }
   ],
   "source": [
    "count_age_group = data['age_group'].value_counts().reset_index().rename(columns={'index':'age_group', 'age_group':'count'})\n",
    "count_age_group"
   ]
  },
  {
   "cell_type": "markdown",
   "metadata": {},
   "source": [
    "Ta tiến hành vẽ biểu đồ pointplot thể hiện số lượng người sử dụng Facebook ở các nhóm tuổi"
   ]
  },
  {
   "cell_type": "code",
   "execution_count": 9,
   "metadata": {},
   "outputs": [
    {
     "data": {
      "text/plain": [
       "<AxesSubplot:xlabel='age_group', ylabel='count'>"
      ]
     },
     "execution_count": 9,
     "metadata": {},
     "output_type": "execute_result"
    },
    {
     "data": {
      "image/png": "[encoded data removed]",
      "text/plain": [
       "<Figure size 864x576 with 1 Axes>"
      ]
     },
     "metadata": {
      "needs_background": "light"
     },
     "output_type": "display_data"
    }
   ],
   "source": [
    "plt.figure(figsize=(12, 8))\n",
    "sns.pointplot(x='age_group', y='count', data=count_age_group)"
   ]
  },
  {
   "cell_type": "markdown",
   "metadata": {},
   "source": [
    "Từ biểu đồ trên, ta có thể thấy rằng phần lớn người dùng nằm trong độ tuổi từ 10 đến 30 tuổi. Độ tuổi từ 40 và sau 40 có xu hướng giảm dần."
   ]
  },
  {
   "cell_type": "markdown",
   "metadata": {},
   "source": [
    "#### 2. Phân tích về giới tính"
   ]
  },
  {
   "cell_type": "markdown",
   "metadata": {},
   "source": [
    "Đầu tiên, ta xét số lượng người dùng Facebook ở nam giới và nữ giới:"
   ]
  },
  {
   "cell_type": "code",
   "execution_count": 10,
   "metadata": {},
   "outputs": [
    {
     "data": {
      "text/html": [
       "<div>\n",
       "<style scoped>\n",
       "    .dataframe tbody tr th:only-of-type {\n",
       "        vertical-align: middle;\n",
       "    }\n",
       "\n",
       "    .dataframe tbody tr th {\n",
       "        vertical-align: top;\n",
       "    }\n",
       "\n",
       "    .dataframe thead th {\n",
       "        text-align: right;\n",
       "    }\n",
       "</style>\n",
       "<table border=\"1\" class=\"dataframe\">\n",
       "  <thead>\n",
       "    <tr style=\"text-align: right;\">\n",
       "      <th></th>\n",
       "      <th>gender</th>\n",
       "      <th>count</th>\n",
       "    </tr>\n",
       "  </thead>\n",
       "  <tbody>\n",
       "    <tr>\n",
       "      <th>0</th>\n",
       "      <td>male</td>\n",
       "      <td>58574</td>\n",
       "    </tr>\n",
       "    <tr>\n",
       "      <th>1</th>\n",
       "      <td>female</td>\n",
       "      <td>40254</td>\n",
       "    </tr>\n",
       "  </tbody>\n",
       "</table>\n",
       "</div>"
      ],
      "text/plain": [
       "   gender  count\n",
       "0    male  58574\n",
       "1  female  40254"
      ]
     },
     "execution_count": 10,
     "metadata": {},
     "output_type": "execute_result"
    }
   ],
   "source": [
    "count_gender = data['gender'].value_counts().reset_index().rename(columns={'gender':'count','index':'gender'})\n",
    "count_gender"
   ]
  },
  {
   "cell_type": "markdown",
   "metadata": {},
   "source": [
    "Ta tiến hành vẽ biểu đồ countplot thể hiện số lượng người dùng Facebook ở nam giới và nữ giới:"
   ]
  },
  {
   "cell_type": "code",
   "execution_count": 11,
   "metadata": {},
   "outputs": [
    {
     "data": {
      "text/plain": [
       "<AxesSubplot:xlabel='gender', ylabel='count'>"
      ]
     },
     "execution_count": 11,
     "metadata": {},
     "output_type": "execute_result"
    },
    {
     "data": {
      "image/png": "[encoded data removed]",
      "text/plain": [
       "<Figure size 432x576 with 1 Axes>"
      ]
     },
     "metadata": {
      "needs_background": "light"
     },
     "output_type": "display_data"
    }
   ],
   "source": [
    "plt.figure(figsize=(6, 8))\n",
    "sns.countplot(x='gender', data=data)"
   ]
  },
  {
   "cell_type": "markdown",
   "metadata": {},
   "source": [
    "Dựa vào biểu đồ và số liệu ta có thể thấy rằng số lượng nam giới sử dụng Facebook nhiều hơn nữ giới (hơn 18.54%)"
   ]
  },
  {
   "cell_type": "markdown",
   "metadata": {},
   "source": [
    "Về số lượng bạn bè và giới tính, ta có biểu đồ như sau:"
   ]
  },
  {
   "cell_type": "code",
   "execution_count": 19,
   "metadata": {},
   "outputs": [
    {
     "data": {
      "text/plain": [
       "<AxesSubplot:xlabel='gender', ylabel='friend_count'>"
      ]
     },
     "execution_count": 19,
     "metadata": {},
     "output_type": "execute_result"
    },
    {
     "data": {
      "image/png": "[encoded data removed]",
      "text/plain": [
       "<Figure size 432x576 with 1 Axes>"
      ]
     },
     "metadata": {
      "needs_background": "light"
     },
     "output_type": "display_data"
    }
   ],
   "source": [
    "plt.figure(figsize=(6, 8))\n",
    "sns.barplot(x='gender', y='friend_count', data=data)"
   ]
  },
  {
   "cell_type": "markdown",
   "metadata": {},
   "source": [
    "Người dùng Facebook là nữ giới có nhiều bạn bè hơn nam giới."
   ]
  },
  {
   "cell_type": "markdown",
   "metadata": {},
   "source": [
    "Tiếp theo ta xét về số lượng lời mời kết bạn ở cả hai giới:"
   ]
  },
  {
   "cell_type": "code",
   "execution_count": 22,
   "metadata": {},
   "outputs": [
    {
     "data": {
      "text/plain": [
       "<AxesSubplot:xlabel='gender', ylabel='friendships_initiated'>"
      ]
     },
     "execution_count": 22,
     "metadata": {},
     "output_type": "execute_result"
    },
    {
     "data": {
      "image/png": "[encoded data removed]",
      "text/plain": [
       "<Figure size 432x432 with 1 Axes>"
      ]
     },
     "metadata": {
      "needs_background": "light"
     },
     "output_type": "display_data"
    }
   ],
   "source": [
    "plt.figure(figsize=(6, 6))\n",
    "sns.barplot(x='gender', y='friendships_initiated', data=data)"
   ]
  },
  {
   "cell_type": "markdown",
   "metadata": {},
   "source": [
    "Từ biểu đồ trên, ta thấy rằng người dùng nữ giới gửi nhiều lời mời kết bạn hơn so với người dùng nam giới nhưng vẫn không có sự chênh lệch quá lớn."
   ]
  },
  {
   "cell_type": "markdown",
   "metadata": {},
   "source": [
    "Tiếp theo ta xét về số lượng like các bài đăng trên Facebook trong các nhóm tuổi ở cả hai giới tính:"
   ]
  },
  {
   "cell_type": "code",
   "execution_count": 12,
   "metadata": {},
   "outputs": [
    {
     "data": {
      "text/plain": [
       "<AxesSubplot:xlabel='age_group', ylabel='likes'>"
      ]
     },
     "execution_count": 12,
     "metadata": {},
     "output_type": "execute_result"
    },
    {
     "data": {
      "image/png": "[encoded data removed]",
      "text/plain": [
       "<Figure size 1080x576 with 1 Axes>"
      ]
     },
     "metadata": {
      "needs_background": "light"
     },
     "output_type": "display_data"
    }
   ],
   "source": [
    "plt.figure(figsize=(15, 8))\n",
    "sns.barplot(x='age_group', y='likes', data=data, hue='gender')"
   ]
  },
  {
   "cell_type": "markdown",
   "metadata": {},
   "source": [
    "Ở biểu đồ thể hiện số lượng người dùng Facebook ở nam giới và nữ giới, ta thấy số lượng người dùng nữ giới ít hơn nam giới nhưng khi nhìn vào số lượng like các bài đăng ở các nhóm tuổi, ta thấy rằng số lượng like các bài đăng của nữ giới ở mọi lứa tuổi cao hơn so với nam giới. Ta có thể nói rằng nữ giới hoạt động Facebook nhiều hơn nam giới."
   ]
  },
  {
   "cell_type": "markdown",
   "metadata": {},
   "source": [
    "Tiếp theo ta xét về số lượng like nhận được trên Facebook trong các nhóm tuổi ở cả hai giới tính:"
   ]
  },
  {
   "cell_type": "code",
   "execution_count": 14,
   "metadata": {},
   "outputs": [
    {
     "data": {
      "text/plain": [
       "<AxesSubplot:xlabel='age_group', ylabel='likes_received'>"
      ]
     },
     "execution_count": 14,
     "metadata": {},
     "output_type": "execute_result"
    },
    {
     "data": {
      "image/png": "[encoded data removed]",
      "text/plain": [
       "<Figure size 1080x576 with 1 Axes>"
      ]
     },
     "metadata": {
      "needs_background": "light"
     },
     "output_type": "display_data"
    }
   ],
   "source": [
    "plt.figure(figsize=(15, 8))\n",
    "sns.barplot(x='age_group', y='likes_received', data=data, hue='gender')"
   ]
  },
  {
   "cell_type": "markdown",
   "metadata": {},
   "source": [
    "Từ biểu đồ trên, ta thấy các bài đăng của người dùng nữ giới ở hầu hết các nhóm tuổi đều nhận được nhiều lượt like hơn so với nam giới."
   ]
  },
  {
   "cell_type": "markdown",
   "metadata": {},
   "source": [
    "#### 3. Phân tích về thời gian sử dụng Facebook\n"
   ]
  },
  {
   "cell_type": "markdown",
   "metadata": {},
   "source": [
    "Dựa vào dữ liệu đầu ở câu 1, đầu tiên ta sẽ xét xem thời gian sử dụng thấp nhất và cao nhất của người dùng Facebook"
   ]
  },
  {
   "cell_type": "code",
   "execution_count": 33,
   "metadata": {},
   "outputs": [
    {
     "name": "stdout",
     "output_type": "stream",
     "text": [
      "Min tenure on facebook:  0.0 day\n",
      "Max tenure on facebook:  3139.0 days\n"
     ]
    }
   ],
   "source": [
    "print('Min tenure on facebook: ', data['tenure'].min(), 'day')\n",
    "print('Max tenure on facebook: ', data['tenure'].max(), 'days')"
   ]
  },
  {
   "cell_type": "markdown",
   "metadata": {},
   "source": [
    "Thời gian của người dùng Facebook dao động từ 0 đến 3139 ngày. Ở đây 3139 ngày tương đương với 8.6 năm (nếu xét mỗi năm có 365 ngày, không tính năm nhuận và năm không nhuận). Xét theo số năm, thời gian của người dùng Facebook dao động từ 0 đến 8.6 năm nên ta sẽ chọn cận dưới là 0 năm và cận trên là 9 năm, sau đó ta tiến hành chia thành 9 nhóm và phân loại nhóm người dùng vào cột \"tenure_group\""
   ]
  },
  {
   "cell_type": "code",
   "execution_count": 34,
   "metadata": {},
   "outputs": [],
   "source": [
    "# Add column \"tenure_group\" to dataset\n",
    "tenure_group = ['0-1 year', '1-2 years', '2-3 years', '3-4 years', '4-5 years', '5-6 years', '6-7 years', '7-8 years', '8-9 years']\n",
    "data['tenure_group'] = pd.cut(data['tenure'], bins=np.arange(0, 365 * 9 + 1, 365), labels=tenure_group, right=True)"
   ]
  },
  {
   "cell_type": "markdown",
   "metadata": {},
   "source": [
    "Tiếp theo, ta đếm xem số lượng người dùng Facebook nằm trong khoảng thời gian nào nhiều nhất"
   ]
  },
  {
   "cell_type": "code",
   "execution_count": 53,
   "metadata": {},
   "outputs": [
    {
     "name": "stdout",
     "output_type": "stream",
     "text": [
      "Người dùng trong nhóm 0 đến 1 năm chiếm:  44.06 %\n"
     ]
    },
    {
     "data": {
      "text/html": [
       "<div>\n",
       "<style scoped>\n",
       "    .dataframe tbody tr th:only-of-type {\n",
       "        vertical-align: middle;\n",
       "    }\n",
       "\n",
       "    .dataframe tbody tr th {\n",
       "        vertical-align: top;\n",
       "    }\n",
       "\n",
       "    .dataframe thead th {\n",
       "        text-align: right;\n",
       "    }\n",
       "</style>\n",
       "<table border=\"1\" class=\"dataframe\">\n",
       "  <thead>\n",
       "    <tr style=\"text-align: right;\">\n",
       "      <th></th>\n",
       "      <th>tenure_group</th>\n",
       "      <th>count</th>\n",
       "    </tr>\n",
       "  </thead>\n",
       "  <tbody>\n",
       "    <tr>\n",
       "      <th>0</th>\n",
       "      <td>0-1 year</td>\n",
       "      <td>43588</td>\n",
       "    </tr>\n",
       "    <tr>\n",
       "      <th>1</th>\n",
       "      <td>1-2 years</td>\n",
       "      <td>33366</td>\n",
       "    </tr>\n",
       "    <tr>\n",
       "      <th>2</th>\n",
       "      <td>2-3 years</td>\n",
       "      <td>9860</td>\n",
       "    </tr>\n",
       "    <tr>\n",
       "      <th>3</th>\n",
       "      <td>3-4 years</td>\n",
       "      <td>5448</td>\n",
       "    </tr>\n",
       "    <tr>\n",
       "      <th>4</th>\n",
       "      <td>4-5 years</td>\n",
       "      <td>4557</td>\n",
       "    </tr>\n",
       "    <tr>\n",
       "      <th>5</th>\n",
       "      <td>5-6 years</td>\n",
       "      <td>1507</td>\n",
       "    </tr>\n",
       "    <tr>\n",
       "      <th>6</th>\n",
       "      <td>6-7 years</td>\n",
       "      <td>581</td>\n",
       "    </tr>\n",
       "    <tr>\n",
       "      <th>7</th>\n",
       "      <td>7-8 years</td>\n",
       "      <td>15</td>\n",
       "    </tr>\n",
       "    <tr>\n",
       "      <th>8</th>\n",
       "      <td>8-9 years</td>\n",
       "      <td>9</td>\n",
       "    </tr>\n",
       "  </tbody>\n",
       "</table>\n",
       "</div>"
      ],
      "text/plain": [
       "  tenure_group  count\n",
       "0     0-1 year  43588\n",
       "1    1-2 years  33366\n",
       "2    2-3 years   9860\n",
       "3    3-4 years   5448\n",
       "4    4-5 years   4557\n",
       "5    5-6 years   1507\n",
       "6    6-7 years    581\n",
       "7    7-8 years     15\n",
       "8    8-9 years      9"
      ]
     },
     "execution_count": 53,
     "metadata": {},
     "output_type": "execute_result"
    }
   ],
   "source": [
    "count_tenure_group = data['tenure_group'].value_counts().reset_index().rename(columns={'index':'tenure_group', 'tenure_group':'count'})\n",
    "print('Người dùng trong nhóm 0 đến 1 năm chiếm: ', round((count_tenure_group['count'][0] / count_tenure_group['count'].sum()) * 100, 2), '%')\n",
    "count_tenure_group"
   ]
  },
  {
   "cell_type": "markdown",
   "metadata": {},
   "source": [
    "Ta tiến hành vẽ biểu đồ pointplot thể hiện số lượng người dùng Facebook ở các nhóm thời gian sử dụng"
   ]
  },
  {
   "cell_type": "code",
   "execution_count": 20,
   "metadata": {},
   "outputs": [
    {
     "data": {
      "text/plain": [
       "<AxesSubplot:xlabel='tenure_group', ylabel='count'>"
      ]
     },
     "execution_count": 20,
     "metadata": {},
     "output_type": "execute_result"
    },
    {
     "data": {
      "image/png": "[encoded data removed]",
      "text/plain": [
       "<Figure size 864x576 with 1 Axes>"
      ]
     },
     "metadata": {
      "needs_background": "light"
     },
     "output_type": "display_data"
    }
   ],
   "source": [
    "plt.figure(figsize=(12, 8))\n",
    "sns.pointplot(x='tenure_group', y='count', data=count_tenure_group)"
   ]
  },
  {
   "cell_type": "markdown",
   "metadata": {},
   "source": [
    "Từ biểu đồ trên, ta thấy phần lớn người dùng Facebook vẫn còn sử dụng nằm trong khoảng từ 0 đến 1 năm và giảm 23.45% trong nhóm từ 1 đến 2 năm so với ban đầu. Ngoài ra, ta thấy sau 5 đến 6 năm sử dụng Facebook, người dùng có xu hướng dừng sử dụng."
   ]
  },
  {
   "cell_type": "markdown",
   "metadata": {},
   "source": [
    "Cuối cùng, ta xét về thời gian hoạt động trong một ngày dựa theo số lượng like các bài đăng trên Facebook. Thời gian hoạt động trong một ngày được tính bằng tổng số lượng like các bài đăng chia cho thời gian sử dụng Facebook. Sau đó ta vẽ biểu đồ thể hiện thời gian hoạt động trong một ngày dựa theo số lượt like các bài đăng của hai giới ở các nhóm tuổi:"
   ]
  },
  {
   "cell_type": "code",
   "execution_count": 29,
   "metadata": {},
   "outputs": [
    {
     "data": {
      "text/plain": [
       "<AxesSubplot:xlabel='age_group', ylabel='activity_per_day'>"
      ]
     },
     "execution_count": 29,
     "metadata": {},
     "output_type": "execute_result"
    },
    {
     "data": {
      "image/png": "[encoded data removed]",
      "text/plain": [
       "<Figure size 720x576 with 1 Axes>"
      ]
     },
     "metadata": {
      "needs_background": "light"
     },
     "output_type": "display_data"
    }
   ],
   "source": [
    "#  Age group and activity per day\n",
    "data['activity_per_day'] = (data['likes'] / data['tenure']).replace([np.nan, np.inf, -np.inf], 0)\n",
    "plt.figure(figsize=(10, 8))\n",
    "sns.barplot(x='age_group', y='activity_per_day', data=data, hue='gender')"
   ]
  },
  {
   "cell_type": "markdown",
   "metadata": {},
   "source": [
    "Ta thấy người dùng ở nhóm tuổi từ 10-20 hoạt động Facebook mỗi ngày nhiều nhất và hầu như nữ giới sử dụng Facebook nhiều hơn nam giới ở mọi lứa tuổi."
   ]
  },
  {
   "cell_type": "markdown",
   "metadata": {},
   "source": [
    "#### Nhận xét\n",
    "- Phần lớn người dùng Facebook nằm trong khoảng từ 10 đến 30 tuổi.\n",
    "- Số lượng người dùng Facebook là nam giới nhiều hơn nữ giới 18.54%.\n",
    "- Người dùng Facebook là nữ giới hoạt dộng nhiều hơn nam giới\n",
    "- Phần lớn người dùng trên Facebook có thời gian hoạt động từ 0 đến 1 năm (chiếm 44.06 %)"
   ]
  }
 ],
 "metadata": {
  "interpreter": {
   "hash": "916dbcbb3f70747c44a77c7bcd40155683ae19c65e1c03b4aa3499c5328201f1"
  },
  "kernelspec": {
   "display_name": "Python 3.8.10 64-bit",
   "language": "python",
   "name": "python3"
  },
  "language_info": {
   "codemirror_mode": {
    "name": "ipython",
    "version": 3
   },
   "file_extension": ".py",
   "mimetype": "text/x-python",
   "name": "python",
   "nbconvert_exporter": "python",
   "pygments_lexer": "ipython3",
   "version": "3.8.10"
  },
  "orig_nbformat": 4
 },
 "nbformat": 4,
 "nbformat_minor": 2
}
